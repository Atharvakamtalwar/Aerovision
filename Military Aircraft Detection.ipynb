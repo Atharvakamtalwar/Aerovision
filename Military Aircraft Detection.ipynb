{
 "cells": [
  {
   "cell_type": "code",
   "execution_count": null,
   "metadata": {
    "_cell_guid": "b1076dfc-b9ad-4769-8c92-a6c4dae69d19",
    "_uuid": "8f2839f25d086af736a60e9eeb907d3b93b6e0e5",
    "trusted": true
   },
   "outputs": [],
   "source": [
    "# This Python 3 environment comes with many helpful analytics libraries installed\n",
    "# It is defined by the kaggle/python Docker image: https://github.com/kaggle/docker-python\n",
    "# For example, here's several helpful packages to load\n",
    "\n",
    "import numpy as np # linear algebra\n",
    "import pandas as pd # data processing, CSV file I/O (e.g. pd.read_csv)\n",
    "\n",
    "# Input data files are available in the read-only \"../input/\" directory\n",
    "# For example, running this (by clicking run or pressing Shift+Enter) will list all files under the input directory\n",
    "\n",
    "import os\n",
    "for dirname, _, filenames in os.walk('/kaggle/input'):\n",
    "    for filename in filenames:\n",
    "        print(os.path.join(dirname, filename))\n",
    "\n",
    "# You can write up to 20GB to the current directory (/kaggle/working/) that gets preserved as output when you create a version using \"Save & Run All\" \n",
    "# You can also write temporary files to /kaggle/temp/, but they won't be saved outside of the current session"
   ]
  },
  {
   "cell_type": "code",
   "execution_count": 1,
   "metadata": {
    "execution": {
     "iopub.execute_input": "2024-10-05T15:34:07.385465Z",
     "iopub.status.busy": "2024-10-05T15:34:07.385157Z",
     "iopub.status.idle": "2024-10-05T15:41:42.689647Z",
     "shell.execute_reply": "2024-10-05T15:41:42.688540Z",
     "shell.execute_reply.started": "2024-10-05T15:34:07.385432Z"
    },
    "trusted": true
   },
   "outputs": [
    {
     "name": "stdout",
     "output_type": "stream",
     "text": [
      "Files have been segregated. Images moved to /kaggle/working/first_images, labels moved to /kaggle/working/first_labels.\n"
     ]
    }
   ],
   "source": [
    "import os\n",
    "import shutil\n",
    "\n",
    "# Path to the folder containing both image and label files\n",
    "source_dir = '/kaggle/input/militaryaircraftdetectiondataset/dataset'\n",
    "\n",
    "# Paths to where you want to move images and labels\n",
    "images_dir = '/kaggle/working/first_images'\n",
    "labels_dir = '/kaggle/working/first_labels'\n",
    "\n",
    "# Create directories if they don't exist\n",
    "os.makedirs(images_dir, exist_ok=True)\n",
    "os.makedirs(labels_dir, exist_ok=True)\n",
    "\n",
    "# File extensions for images (you can add more if needed)\n",
    "image_extensions = ['.jpg']\n",
    "\n",
    "# Iterate over all files in the source directory\n",
    "for filename in os.listdir(source_dir):\n",
    "    file_path = os.path.join(source_dir, filename)\n",
    "\n",
    "    # Check if it's an image file\n",
    "    if any(filename.lower().endswith(ext) for ext in image_extensions):\n",
    "        shutil.copy(file_path, os.path.join(images_dir, filename))  # Move image file to the images directory\n",
    "    # Check if it's a label file (YOLO format .txt files)\n",
    "    elif filename.endswith('.csv'):\n",
    "        shutil.copy(file_path, os.path.join(labels_dir, filename))  # Move label file to the labels directory\n",
    "\n",
    "print(f\"Files have been segregated. Images moved to {images_dir}, labels moved to {labels_dir}.\")\n"
   ]
  },
  {
   "cell_type": "code",
   "execution_count": 2,
   "metadata": {
    "execution": {
     "iopub.execute_input": "2024-10-05T15:42:01.565826Z",
     "iopub.status.busy": "2024-10-05T15:42:01.565461Z",
     "iopub.status.idle": "2024-10-05T15:42:32.885700Z",
     "shell.execute_reply": "2024-10-05T15:42:32.884812Z",
     "shell.execute_reply.started": "2024-10-05T15:42:01.565792Z"
    },
    "trusted": true
   },
   "outputs": [],
   "source": [
    "import os\n",
    "import pandas as pd\n",
    "\n",
    "# Define the paths\n",
    "image_folder = \"/kaggle/working/first_images\"  # Replace with your path to images\n",
    "csv_folder = \"/kaggle/working/first_labels\"  # Replace with your path to CSV files\n",
    "output_label_folder = \"/kaggle/working/new_labels\"  # Replace with the folder for YOLO labels\n",
    "\n",
    "# Ensure output directory exists\n",
    "if not os.path.exists(output_label_folder):\n",
    "    os.makedirs(output_label_folder)\n",
    "\n",
    "# Class mapping based on your aircraft classes\n",
    "class_mapping = {\n",
    "    'A10': 0, 'A400M': 1, 'AG600': 2, 'AH64': 3, 'AV8B': 4, 'An124': 5, 'An22': 6, 'An225': 7, 'An72': 8, 'B1': 9, 'B2': 10,\n",
    "    'B21': 11, 'B52': 12, 'Be200': 13, 'C130': 14, 'C17': 15, 'C2': 16, 'C390': 17, 'C5': 18, 'CH47': 19, 'CL415': 20,\n",
    "    'E2': 21, 'E7': 22, 'EF2000': 23, 'F117': 24, 'F14': 25, 'F15': 26, 'F16': 27, 'F22': 28, 'F35': 29, 'F4': 30,\n",
    "    'F18': 31, 'H6': 32, 'J10': 33, 'J20': 34, 'JAS39': 35, 'JF17': 36, 'JH7': 37, 'KC135': 38, 'KF21': 39, 'KJ600': 40,\n",
    "    'Ka27': 41, 'Ka52': 42, 'MQ9': 43, 'Mi24': 44, 'Mi28': 45, 'Mig29': 46, 'Mig31': 47, 'Mirage2000': 48, 'P3': 49, 'RQ4': 50,\n",
    "    'Rafale': 51, 'SR71': 52, 'Su24': 53, 'Su25': 54, 'Su34': 55, 'Su57': 56, 'TB001': 57, 'TB2': 58, 'Tornado': 59, 'Tu160': 60,\n",
    "    'Tu22M': 61, 'Tu95': 62, 'U2': 63, 'UH60': 64, 'US2': 65, 'V22': 66, 'Vulcan': 67, 'WZ7': 68, 'XB70': 69, 'Y20': 70,\n",
    "    'YF23': 71, 'Z19': 72\n",
    "}\n",
    "\n",
    "# Process each CSV file\n",
    "for csv_file in os.listdir(csv_folder):\n",
    "    if csv_file.endswith(\".csv\"):\n",
    "        # Read CSV file\n",
    "        df = pd.read_csv(os.path.join(csv_folder, csv_file))\n",
    "\n",
    "        # Create YOLO formatted labels for each row\n",
    "        yolo_labels = []\n",
    "        for index, row in df.iterrows():\n",
    "            # Get the class ID from class name\n",
    "            class_id = class_mapping.get(row['class'], None)\n",
    "            if class_id is None:\n",
    "                print(f\"Class {row['class']} not found in class_mapping!\")\n",
    "                continue\n",
    "\n",
    "            # Get image dimensions\n",
    "            w = row['width']\n",
    "            h = row['height']\n",
    "\n",
    "            # Get bounding box coordinates\n",
    "            xmin, ymin, xmax, ymax = row['xmin'], row['ymin'], row['xmax'], row['ymax']\n",
    "\n",
    "            # Calculate normalized values\n",
    "            x_center = (xmin + xmax) / 2.0 / w\n",
    "            y_center = (ymin + ymax) / 2.0 / h\n",
    "            width = (xmax - xmin) / w\n",
    "            height = (ymax - ymin) / h\n",
    "\n",
    "            # Append label in YOLO format\n",
    "            yolo_labels.append(f\"{class_id} {x_center} {y_center} {width} {height}\")\n",
    "\n",
    "        # Write YOLO labels to file\n",
    "        label_filename = os.path.splitext(csv_file)[0] + \".txt\"\n",
    "        with open(os.path.join(output_label_folder, label_filename), \"w\") as f:\n",
    "            f.write(\"\\n\".join(yolo_labels))"
   ]
  },
  {
   "cell_type": "code",
   "execution_count": 3,
   "metadata": {
    "execution": {
     "iopub.execute_input": "2024-10-05T15:42:41.793518Z",
     "iopub.status.busy": "2024-10-05T15:42:41.793131Z",
     "iopub.status.idle": "2024-10-05T15:42:41.815888Z",
     "shell.execute_reply": "2024-10-05T15:42:41.815002Z",
     "shell.execute_reply.started": "2024-10-05T15:42:41.793466Z"
    },
    "trusted": true
   },
   "outputs": [
    {
     "name": "stdout",
     "output_type": "stream",
     "text": [
      "Total number of '.jpg' files in '/kaggle/working/first_images': 17733\n"
     ]
    }
   ],
   "source": [
    "import os\n",
    "\n",
    "# Path to the directory\n",
    "directory_path = '/kaggle/working/first_images'\n",
    "\n",
    "# File extension to count\n",
    "file_extension = '.jpg'\n",
    "\n",
    "# Count files with the specified extension\n",
    "file_count = sum(1 for filename in os.listdir(directory_path) \n",
    "                 if filename.endswith(file_extension))\n",
    "\n",
    "print(f\"Total number of '{file_extension}' files in '{directory_path}': {file_count}\")\n"
   ]
  },
  {
   "cell_type": "code",
   "execution_count": 4,
   "metadata": {
    "execution": {
     "iopub.execute_input": "2024-10-05T15:42:42.675591Z",
     "iopub.status.busy": "2024-10-05T15:42:42.675163Z",
     "iopub.status.idle": "2024-10-05T15:42:42.698530Z",
     "shell.execute_reply": "2024-10-05T15:42:42.697772Z",
     "shell.execute_reply.started": "2024-10-05T15:42:42.675547Z"
    },
    "trusted": true
   },
   "outputs": [
    {
     "name": "stdout",
     "output_type": "stream",
     "text": [
      "Total number of '.txt' files in '/kaggle/working/new_labels': 17733\n"
     ]
    }
   ],
   "source": [
    "import os\n",
    "\n",
    "# Path to the directory\n",
    "directory_path = '/kaggle/working/new_labels'\n",
    "\n",
    "# File extension to count\n",
    "file_extension = '.txt'\n",
    "\n",
    "# Count files with the specified extension\n",
    "file_count = sum(1 for filename in os.listdir(directory_path) \n",
    "                 if filename.endswith(file_extension))\n",
    "\n",
    "print(f\"Total number of '{file_extension}' files in '{directory_path}': {file_count}\")\n"
   ]
  },
  {
   "cell_type": "code",
   "execution_count": 5,
   "metadata": {
    "execution": {
     "iopub.execute_input": "2024-10-05T15:42:45.395772Z",
     "iopub.status.busy": "2024-10-05T15:42:45.394917Z",
     "iopub.status.idle": "2024-10-05T15:42:46.622782Z",
     "shell.execute_reply": "2024-10-05T15:42:46.621750Z",
     "shell.execute_reply.started": "2024-10-05T15:42:45.395731Z"
    },
    "trusted": true
   },
   "outputs": [
    {
     "name": "stdout",
     "output_type": "stream",
     "text": [
      "Images and corresponding label files have been divided into train, validation, and test sets.\n",
      "Train, validation, and test paths have been written to train.txt, val.txt, and test.txt.\n"
     ]
    }
   ],
   "source": [
    "import os\n",
    "import shutil\n",
    "import random\n",
    "\n",
    "# Path to the folders containing images and labels\n",
    "images_dir = '/kaggle/working/first_images'  # Change to your images directory\n",
    "labels_dir = '/kaggle/working/new_labels'  # Change to your labels directory\n",
    "\n",
    "# Define paths for train, validation, and test sets for images and labels\n",
    "train_images_dir = '/kaggle/working/images/train'      # Train images directory\n",
    "val_images_dir = '/kaggle/working/images/val'          # Validation images directory\n",
    "test_images_dir = '/kaggle/working/images/test'        # Test images directory\n",
    "\n",
    "train_labels_dir = '/kaggle/working/labels/train'      # Train labels directory\n",
    "val_labels_dir = '/kaggle/working/labels/val'          # Validation labels directory\n",
    "test_labels_dir = '/kaggle/working/labels/test'        # Test labels directory\n",
    "\n",
    "# Create directories if they don't exist\n",
    "os.makedirs(train_images_dir, exist_ok=True)\n",
    "os.makedirs(val_images_dir, exist_ok=True)\n",
    "os.makedirs(test_images_dir, exist_ok=True)\n",
    "\n",
    "os.makedirs(train_labels_dir, exist_ok=True)\n",
    "os.makedirs(val_labels_dir, exist_ok=True)\n",
    "os.makedirs(test_labels_dir, exist_ok=True)\n",
    "\n",
    "# List all files in the images directory\n",
    "all_images = os.listdir(images_dir)\n",
    "\n",
    "# Shuffle the list of images\n",
    "random.shuffle(all_images)\n",
    "\n",
    "# Calculate split indices\n",
    "total_images = len(all_images)\n",
    "train_split = int(0.7 * total_images)  # 70% for training\n",
    "val_split = int(0.15 * total_images)    # 15% for validation\n",
    "\n",
    "# Lists to store the paths for train, val, and test\n",
    "train_image_paths = []\n",
    "val_image_paths = []\n",
    "test_image_paths = []\n",
    "\n",
    "# Move image files to respective directories and store their paths\n",
    "for i, image in enumerate(all_images):\n",
    "    src_image_path = os.path.join(images_dir, image)\n",
    "    \n",
    "    if i < train_split:\n",
    "        shutil.move(src_image_path, os.path.join(train_images_dir, image))\n",
    "        train_image_paths.append(os.path.join(train_images_dir, image))\n",
    "    elif i < train_split + val_split:\n",
    "        shutil.move(src_image_path, os.path.join(val_images_dir, image))\n",
    "        val_image_paths.append(os.path.join(val_images_dir, image))\n",
    "    else:\n",
    "        shutil.move(src_image_path, os.path.join(test_images_dir, image))\n",
    "        test_image_paths.append(os.path.join(test_images_dir, image))\n",
    "\n",
    "# Now move the corresponding .txt label files\n",
    "for i, image in enumerate(all_images):\n",
    "    label_name = os.path.splitext(image)[0] + '.txt'  # Get corresponding label file name\n",
    "    src_label_path = os.path.join(labels_dir, label_name)\n",
    "    \n",
    "    if i < train_split:\n",
    "        shutil.move(src_label_path, os.path.join(train_labels_dir, label_name))\n",
    "    elif i < train_split + val_split:\n",
    "        shutil.move(src_label_path, os.path.join(val_labels_dir, label_name))\n",
    "    else:\n",
    "        shutil.move(src_label_path, os.path.join(test_labels_dir, label_name))\n",
    "\n",
    "# Write the paths to the .txt files\n",
    "with open('/kaggle/working/train.txt', 'w') as f:\n",
    "    for path in train_image_paths:\n",
    "        f.write(path + '\\n')\n",
    "\n",
    "with open('/kaggle/working/val.txt', 'w') as f:\n",
    "    for path in val_image_paths:\n",
    "        f.write(path + '\\n')\n",
    "\n",
    "with open('/kaggle/working/test.txt', 'w') as f:\n",
    "    for path in test_image_paths:\n",
    "        f.write(path + '\\n')\n",
    "\n",
    "print(\"Images and corresponding label files have been divided into train, validation, and test sets.\")\n",
    "print(\"Train, validation, and test paths have been written to train.txt, val.txt, and test.txt.\")\n"
   ]
  },
  {
   "cell_type": "code",
   "execution_count": 12,
   "metadata": {
    "execution": {
     "iopub.execute_input": "2024-10-05T17:46:21.043298Z",
     "iopub.status.busy": "2024-10-05T17:46:21.042800Z",
     "iopub.status.idle": "2024-10-05T17:46:21.053287Z",
     "shell.execute_reply": "2024-10-05T17:46:21.052447Z",
     "shell.execute_reply.started": "2024-10-05T17:46:21.043250Z"
    },
    "trusted": true
   },
   "outputs": [
    {
     "name": "stdout",
     "output_type": "stream",
     "text": [
      "File copied from /kaggle/input/b2-images/B2-1.jpeg to /kaggle/working\n"
     ]
    }
   ],
   "source": [
    "import shutil\n",
    "import os\n",
    "\n",
    "# Define the source and destination paths\n",
    "source_file = '/kaggle/input/b2-images/B2-1.jpeg'  # Replace with your actual file path\n",
    "destination_file = '/kaggle/working'  # Replace with the desired destination path\n",
    "\n",
    "# Ensure the source file exists\n",
    "if os.path.exists(source_file):\n",
    "    # Copy the file\n",
    "    shutil.copy(source_file, destination_file)\n",
    "    print(f\"File copied from {source_file} to {destination_file}\")\n",
    "else:\n",
    "    print(f\"Source file does not exist: {source_file}\")\n"
   ]
  },
  {
   "cell_type": "code",
   "execution_count": 7,
   "metadata": {
    "execution": {
     "iopub.execute_input": "2024-10-05T15:47:18.291068Z",
     "iopub.status.busy": "2024-10-05T15:47:18.290710Z",
     "iopub.status.idle": "2024-10-05T15:47:22.416825Z",
     "shell.execute_reply": "2024-10-05T15:47:22.415911Z",
     "shell.execute_reply.started": "2024-10-05T15:47:18.291033Z"
    },
    "trusted": true
   },
   "outputs": [
    {
     "name": "stderr",
     "output_type": "stream",
     "text": [
      "\u001b[34m\u001b[1mwandb\u001b[0m: Using wandb-core as the SDK backend. Please refer to https://wandb.me/wandb-core for more information.\n",
      "\u001b[34m\u001b[1mwandb\u001b[0m: Logging into wandb.ai. (Learn how to deploy a W&B server locally: https://wandb.me/wandb-server)\n",
      "\u001b[34m\u001b[1mwandb\u001b[0m: You can find your API key in your browser here: https://wandb.ai/authorize\n",
      "\u001b[34m\u001b[1mwandb\u001b[0m: Paste an API key from your profile and hit enter, or press ctrl+c to quit:"
     ]
    },
    {
     "name": "stdout",
     "output_type": "stream",
     "text": [
      "  ········································\n"
     ]
    },
    {
     "name": "stderr",
     "output_type": "stream",
     "text": [
      "\u001b[34m\u001b[1mwandb\u001b[0m: Appending key for api.wandb.ai to your netrc file: /root/.netrc\n"
     ]
    },
    {
     "data": {
      "text/plain": [
       "True"
      ]
     },
     "execution_count": 7,
     "metadata": {},
     "output_type": "execute_result"
    }
   ],
   "source": [
    "import wandb\n",
    "\n",
    "wandb.login()"
   ]
  },
  {
   "cell_type": "code",
   "execution_count": 9,
   "metadata": {
    "collapsed": true,
    "execution": {
     "iopub.execute_input": "2024-10-05T15:47:40.163725Z",
     "iopub.status.busy": "2024-10-05T15:47:40.163021Z",
     "iopub.status.idle": "2024-10-05T15:47:53.683574Z",
     "shell.execute_reply": "2024-10-05T15:47:53.682435Z",
     "shell.execute_reply.started": "2024-10-05T15:47:40.163681Z"
    },
    "jupyter": {
     "outputs_hidden": true
    },
    "trusted": true
   },
   "outputs": [
    {
     "name": "stdout",
     "output_type": "stream",
     "text": [
      "Collecting ultralytics\n",
      "  Downloading ultralytics-8.3.5-py3-none-any.whl.metadata (34 kB)\n",
      "Requirement already satisfied: numpy>=1.23.0 in /opt/conda/lib/python3.10/site-packages (from ultralytics) (1.26.4)\n",
      "Requirement already satisfied: matplotlib>=3.3.0 in /opt/conda/lib/python3.10/site-packages (from ultralytics) (3.7.5)\n",
      "Requirement already satisfied: opencv-python>=4.6.0 in /opt/conda/lib/python3.10/site-packages (from ultralytics) (4.10.0.84)\n",
      "Requirement already satisfied: pillow>=7.1.2 in /opt/conda/lib/python3.10/site-packages (from ultralytics) (10.3.0)\n",
      "Requirement already satisfied: pyyaml>=5.3.1 in /opt/conda/lib/python3.10/site-packages (from ultralytics) (6.0.2)\n",
      "Requirement already satisfied: requests>=2.23.0 in /opt/conda/lib/python3.10/site-packages (from ultralytics) (2.32.3)\n",
      "Requirement already satisfied: scipy>=1.4.1 in /opt/conda/lib/python3.10/site-packages (from ultralytics) (1.14.1)\n",
      "Requirement already satisfied: torch>=1.8.0 in /opt/conda/lib/python3.10/site-packages (from ultralytics) (2.4.0)\n",
      "Requirement already satisfied: torchvision>=0.9.0 in /opt/conda/lib/python3.10/site-packages (from ultralytics) (0.19.0)\n",
      "Requirement already satisfied: tqdm>=4.64.0 in /opt/conda/lib/python3.10/site-packages (from ultralytics) (4.66.4)\n",
      "Requirement already satisfied: psutil in /opt/conda/lib/python3.10/site-packages (from ultralytics) (5.9.3)\n",
      "Requirement already satisfied: py-cpuinfo in /opt/conda/lib/python3.10/site-packages (from ultralytics) (9.0.0)\n",
      "Requirement already satisfied: pandas>=1.1.4 in /opt/conda/lib/python3.10/site-packages (from ultralytics) (2.2.2)\n",
      "Requirement already satisfied: seaborn>=0.11.0 in /opt/conda/lib/python3.10/site-packages (from ultralytics) (0.12.2)\n",
      "Collecting ultralytics-thop>=2.0.0 (from ultralytics)\n",
      "  Downloading ultralytics_thop-2.0.9-py3-none-any.whl.metadata (9.3 kB)\n",
      "Requirement already satisfied: contourpy>=1.0.1 in /opt/conda/lib/python3.10/site-packages (from matplotlib>=3.3.0->ultralytics) (1.2.1)\n",
      "Requirement already satisfied: cycler>=0.10 in /opt/conda/lib/python3.10/site-packages (from matplotlib>=3.3.0->ultralytics) (0.12.1)\n",
      "Requirement already satisfied: fonttools>=4.22.0 in /opt/conda/lib/python3.10/site-packages (from matplotlib>=3.3.0->ultralytics) (4.53.0)\n",
      "Requirement already satisfied: kiwisolver>=1.0.1 in /opt/conda/lib/python3.10/site-packages (from matplotlib>=3.3.0->ultralytics) (1.4.5)\n",
      "Requirement already satisfied: packaging>=20.0 in /opt/conda/lib/python3.10/site-packages (from matplotlib>=3.3.0->ultralytics) (21.3)\n",
      "Requirement already satisfied: pyparsing>=2.3.1 in /opt/conda/lib/python3.10/site-packages (from matplotlib>=3.3.0->ultralytics) (3.1.2)\n",
      "Requirement already satisfied: python-dateutil>=2.7 in /opt/conda/lib/python3.10/site-packages (from matplotlib>=3.3.0->ultralytics) (2.9.0.post0)\n",
      "Requirement already satisfied: pytz>=2020.1 in /opt/conda/lib/python3.10/site-packages (from pandas>=1.1.4->ultralytics) (2024.1)\n",
      "Requirement already satisfied: tzdata>=2022.7 in /opt/conda/lib/python3.10/site-packages (from pandas>=1.1.4->ultralytics) (2024.1)\n",
      "Requirement already satisfied: charset-normalizer<4,>=2 in /opt/conda/lib/python3.10/site-packages (from requests>=2.23.0->ultralytics) (3.3.2)\n",
      "Requirement already satisfied: idna<4,>=2.5 in /opt/conda/lib/python3.10/site-packages (from requests>=2.23.0->ultralytics) (3.7)\n",
      "Requirement already satisfied: urllib3<3,>=1.21.1 in /opt/conda/lib/python3.10/site-packages (from requests>=2.23.0->ultralytics) (1.26.18)\n",
      "Requirement already satisfied: certifi>=2017.4.17 in /opt/conda/lib/python3.10/site-packages (from requests>=2.23.0->ultralytics) (2024.8.30)\n",
      "Requirement already satisfied: filelock in /opt/conda/lib/python3.10/site-packages (from torch>=1.8.0->ultralytics) (3.15.1)\n",
      "Requirement already satisfied: typing-extensions>=4.8.0 in /opt/conda/lib/python3.10/site-packages (from torch>=1.8.0->ultralytics) (4.12.2)\n",
      "Requirement already satisfied: sympy in /opt/conda/lib/python3.10/site-packages (from torch>=1.8.0->ultralytics) (1.13.3)\n",
      "Requirement already satisfied: networkx in /opt/conda/lib/python3.10/site-packages (from torch>=1.8.0->ultralytics) (3.3)\n",
      "Requirement already satisfied: jinja2 in /opt/conda/lib/python3.10/site-packages (from torch>=1.8.0->ultralytics) (3.1.4)\n",
      "Requirement already satisfied: fsspec in /opt/conda/lib/python3.10/site-packages (from torch>=1.8.0->ultralytics) (2024.6.1)\n",
      "Requirement already satisfied: six>=1.5 in /opt/conda/lib/python3.10/site-packages (from python-dateutil>=2.7->matplotlib>=3.3.0->ultralytics) (1.16.0)\n",
      "Requirement already satisfied: MarkupSafe>=2.0 in /opt/conda/lib/python3.10/site-packages (from jinja2->torch>=1.8.0->ultralytics) (2.1.5)\n",
      "Requirement already satisfied: mpmath<1.4,>=1.1.0 in /opt/conda/lib/python3.10/site-packages (from sympy->torch>=1.8.0->ultralytics) (1.3.0)\n",
      "Downloading ultralytics-8.3.5-py3-none-any.whl (882 kB)\n",
      "\u001b[2K   \u001b[90m━━━━━━━━━━━━━━━━━━━━━━━━━━━━━━━━━━━━━━━━\u001b[0m \u001b[32m882.8/882.8 kB\u001b[0m \u001b[31m22.0 MB/s\u001b[0m eta \u001b[36m0:00:00\u001b[0m00:01\u001b[0m\n",
      "\u001b[?25hDownloading ultralytics_thop-2.0.9-py3-none-any.whl (26 kB)\n",
      "Installing collected packages: ultralytics-thop, ultralytics\n",
      "Successfully installed ultralytics-8.3.5 ultralytics-thop-2.0.9\n"
     ]
    }
   ],
   "source": [
    "!pip install ultralytics"
   ]
  },
  {
   "cell_type": "code",
   "execution_count": 1,
   "metadata": {
    "execution": {
     "iopub.execute_input": "2024-10-05T15:47:55.983611Z",
     "iopub.status.busy": "2024-10-05T15:47:55.983187Z",
     "iopub.status.idle": "2024-10-05T15:48:00.696991Z",
     "shell.execute_reply": "2024-10-05T15:48:00.696147Z",
     "shell.execute_reply.started": "2024-10-05T15:47:55.983565Z"
    },
    "trusted": true
   },
   "outputs": [
    {
     "name": "stdout",
     "output_type": "stream",
     "text": [
      "Downloading https://github.com/ultralytics/assets/releases/download/v8.3.0/yolo11s.pt to 'yolo11s.pt'...\n"
     ]
    },
    {
     "name": "stderr",
     "output_type": "stream",
     "text": [
      "100%|██████████| 18.4M/18.4M [00:02<00:00, 8.49MB/s]\n"
     ]
    }
   ],
   "source": [
    "from ultralytics import YOLO\n",
    "\n",
    "model = YOLO(\"yolo11s.pt\")"
   ]
  },
  {
   "cell_type": "code",
   "execution_count": 11,
   "metadata": {
    "execution": {
     "iopub.execute_input": "2024-10-05T15:48:51.910260Z",
     "iopub.status.busy": "2024-10-05T15:48:51.909079Z",
     "iopub.status.idle": "2024-10-05T17:26:15.449112Z",
     "shell.execute_reply": "2024-10-05T17:26:15.448160Z",
     "shell.execute_reply.started": "2024-10-05T15:48:51.910212Z"
    },
    "trusted": true
   },
   "outputs": [
    {
     "name": "stdout",
     "output_type": "stream",
     "text": [
      "Ultralytics 8.3.5 🚀 Python-3.10.14 torch-2.4.0 CUDA:0 (Tesla T4, 15095MiB)\n",
      "\u001b[34m\u001b[1mengine/trainer: \u001b[0mtask=detect, mode=train, model=yolo11s.pt, data=/kaggle/working/try3.yaml, epochs=10, time=None, patience=100, batch=16, imgsz=640, save=True, save_period=-1, cache=False, device=None, workers=8, project=Military_aircraft_detection, name=trained_yolo, exist_ok=False, pretrained=True, optimizer=auto, verbose=True, seed=0, deterministic=True, single_cls=False, rect=False, cos_lr=False, close_mosaic=10, resume=False, amp=True, fraction=1.0, profile=False, freeze=None, multi_scale=False, overlap_mask=True, mask_ratio=4, dropout=0.0, val=True, split=val, save_json=False, save_hybrid=False, conf=None, iou=0.7, max_det=300, half=False, dnn=False, plots=True, source=None, vid_stride=1, stream_buffer=False, visualize=False, augment=False, agnostic_nms=False, classes=None, retina_masks=False, embed=None, show=False, save_frames=False, save_txt=False, save_conf=False, save_crop=False, show_labels=True, show_conf=True, show_boxes=True, line_width=None, format=torchscript, keras=False, optimize=False, int8=False, dynamic=False, simplify=True, opset=None, workspace=4, nms=False, lr0=0.01, lrf=0.01, momentum=0.937, weight_decay=0.0005, warmup_epochs=3.0, warmup_momentum=0.8, warmup_bias_lr=0.1, box=7.5, cls=0.5, dfl=1.5, pose=12.0, kobj=1.0, label_smoothing=0.0, nbs=64, hsv_h=0.015, hsv_s=0.7, hsv_v=0.4, degrees=0.0, translate=0.1, scale=0.5, shear=0.0, perspective=0.0, flipud=0.0, fliplr=0.5, bgr=0.0, mosaic=1.0, mixup=0.0, copy_paste=0.0, copy_paste_mode=flip, auto_augment=randaugment, erasing=0.4, crop_fraction=1.0, cfg=None, tracker=botsort.yaml, save_dir=Military_aircraft_detection/trained_yolo\n",
      "Downloading https://ultralytics.com/assets/Arial.ttf to '/root/.config/Ultralytics/Arial.ttf'...\n"
     ]
    },
    {
     "name": "stderr",
     "output_type": "stream",
     "text": [
      "100%|██████████| 755k/755k [00:00<00:00, 21.4MB/s]\n",
      "2024-10-05 15:48:53,777\tINFO util.py:124 -- Outdated packages:\n",
      "  ipywidgets==7.7.1 found, needs ipywidgets>=8\n",
      "Run `pip install -U ipywidgets`, then restart the notebook server for rich notebook output.\n",
      "2024-10-05 15:48:54,308\tINFO util.py:124 -- Outdated packages:\n",
      "  ipywidgets==7.7.1 found, needs ipywidgets>=8\n",
      "Run `pip install -U ipywidgets`, then restart the notebook server for rich notebook output.\n"
     ]
    },
    {
     "name": "stdout",
     "output_type": "stream",
     "text": [
      "Overriding model.yaml nc=80 with nc=73\n",
      "\n",
      "                   from  n    params  module                                       arguments                     \n",
      "  0                  -1  1       928  ultralytics.nn.modules.conv.Conv             [3, 32, 3, 2]                 \n",
      "  1                  -1  1     18560  ultralytics.nn.modules.conv.Conv             [32, 64, 3, 2]                \n",
      "  2                  -1  1     26080  ultralytics.nn.modules.block.C3k2            [64, 128, 1, False, 0.25]     \n",
      "  3                  -1  1    147712  ultralytics.nn.modules.conv.Conv             [128, 128, 3, 2]              \n",
      "  4                  -1  1    103360  ultralytics.nn.modules.block.C3k2            [128, 256, 1, False, 0.25]    \n",
      "  5                  -1  1    590336  ultralytics.nn.modules.conv.Conv             [256, 256, 3, 2]              \n",
      "  6                  -1  1    346112  ultralytics.nn.modules.block.C3k2            [256, 256, 1, True]           \n",
      "  7                  -1  1   1180672  ultralytics.nn.modules.conv.Conv             [256, 512, 3, 2]              \n",
      "  8                  -1  1   1380352  ultralytics.nn.modules.block.C3k2            [512, 512, 1, True]           \n",
      "  9                  -1  1    656896  ultralytics.nn.modules.block.SPPF            [512, 512, 5]                 \n",
      " 10                  -1  1    990976  ultralytics.nn.modules.block.C2PSA           [512, 512, 1]                 \n",
      " 11                  -1  1         0  torch.nn.modules.upsampling.Upsample         [None, 2, 'nearest']          \n",
      " 12             [-1, 6]  1         0  ultralytics.nn.modules.conv.Concat           [1]                           \n",
      " 13                  -1  1    443776  ultralytics.nn.modules.block.C3k2            [768, 256, 1, False]          \n",
      " 14                  -1  1         0  torch.nn.modules.upsampling.Upsample         [None, 2, 'nearest']          \n",
      " 15             [-1, 4]  1         0  ultralytics.nn.modules.conv.Concat           [1]                           \n",
      " 16                  -1  1    127680  ultralytics.nn.modules.block.C3k2            [512, 128, 1, False]          \n",
      " 17                  -1  1    147712  ultralytics.nn.modules.conv.Conv             [128, 128, 3, 2]              \n",
      " 18            [-1, 13]  1         0  ultralytics.nn.modules.conv.Concat           [1]                           \n",
      " 19                  -1  1    345472  ultralytics.nn.modules.block.C3k2            [384, 256, 1, False]          \n",
      " 20                  -1  1    590336  ultralytics.nn.modules.conv.Conv             [256, 256, 3, 2]              \n",
      " 21            [-1, 10]  1         0  ultralytics.nn.modules.conv.Concat           [1]                           \n",
      " 22                  -1  1   1511424  ultralytics.nn.modules.block.C3k2            [768, 512, 1, True]           \n",
      " 23        [16, 19, 22]  1    847659  ultralytics.nn.modules.head.Detect           [73, [128, 256, 512]]         \n",
      "YOLO11s summary: 319 layers, 9,456,043 parameters, 9,456,027 gradients, 21.7 GFLOPs\n",
      "\n",
      "Transferred 493/499 items from pretrained weights\n",
      "\u001b[34m\u001b[1mTensorBoard: \u001b[0mStart with 'tensorboard --logdir Military_aircraft_detection/trained_yolo', view at http://localhost:6006/\n"
     ]
    },
    {
     "name": "stderr",
     "output_type": "stream",
     "text": [
      "\u001b[34m\u001b[1mwandb\u001b[0m: Currently logged in as: \u001b[33matharvakamtalwar\u001b[0m (\u001b[33matharvakamtalwar-pimpri-chinchwad-education-trust\u001b[0m). Use \u001b[1m`wandb login --relogin`\u001b[0m to force relogin\n"
     ]
    },
    {
     "data": {
      "application/vnd.jupyter.widget-view+json": {
       "model_id": "2ac4aa33f3b34bc1913479027e231afd",
       "version_major": 2,
       "version_minor": 0
      },
      "text/plain": [
       "VBox(children=(Label(value='Waiting for wandb.init()...\\r'), FloatProgress(value=0.011112994199998462, max=1.0…"
      ]
     },
     "metadata": {},
     "output_type": "display_data"
    },
    {
     "data": {
      "text/html": [
       "Tracking run with wandb version 0.18.3"
      ],
      "text/plain": [
       "<IPython.core.display.HTML object>"
      ]
     },
     "metadata": {},
     "output_type": "display_data"
    },
    {
     "data": {
      "text/html": [
       "Run data is saved locally in <code>/kaggle/working/wandb/run-20241005_154907-5v46lt0z</code>"
      ],
      "text/plain": [
       "<IPython.core.display.HTML object>"
      ]
     },
     "metadata": {},
     "output_type": "display_data"
    },
    {
     "data": {
      "text/html": [
       "Syncing run <strong><a href='https://wandb.ai/atharvakamtalwar-pimpri-chinchwad-education-trust/Military_aircraft_detection/runs/5v46lt0z' target=\"_blank\">trained_yolo</a></strong> to <a href='https://wandb.ai/atharvakamtalwar-pimpri-chinchwad-education-trust/Military_aircraft_detection' target=\"_blank\">Weights & Biases</a> (<a href='https://wandb.me/run' target=\"_blank\">docs</a>)<br/>"
      ],
      "text/plain": [
       "<IPython.core.display.HTML object>"
      ]
     },
     "metadata": {},
     "output_type": "display_data"
    },
    {
     "data": {
      "text/html": [
       " View project at <a href='https://wandb.ai/atharvakamtalwar-pimpri-chinchwad-education-trust/Military_aircraft_detection' target=\"_blank\">https://wandb.ai/atharvakamtalwar-pimpri-chinchwad-education-trust/Military_aircraft_detection</a>"
      ],
      "text/plain": [
       "<IPython.core.display.HTML object>"
      ]
     },
     "metadata": {},
     "output_type": "display_data"
    },
    {
     "data": {
      "text/html": [
       " View run at <a href='https://wandb.ai/atharvakamtalwar-pimpri-chinchwad-education-trust/Military_aircraft_detection/runs/5v46lt0z' target=\"_blank\">https://wandb.ai/atharvakamtalwar-pimpri-chinchwad-education-trust/Military_aircraft_detection/runs/5v46lt0z</a>"
      ],
      "text/plain": [
       "<IPython.core.display.HTML object>"
      ]
     },
     "metadata": {},
     "output_type": "display_data"
    },
    {
     "name": "stdout",
     "output_type": "stream",
     "text": [
      "Freezing layer 'model.23.dfl.conv.weight'\n",
      "\u001b[34m\u001b[1mAMP: \u001b[0mrunning Automatic Mixed Precision (AMP) checks with YOLO11n...\n",
      "Downloading https://github.com/ultralytics/assets/releases/download/v8.3.0/yolo11n.pt to 'yolo11n.pt'...\n"
     ]
    },
    {
     "name": "stderr",
     "output_type": "stream",
     "text": [
      "100%|██████████| 5.35M/5.35M [00:00<00:00, 92.3MB/s]\n"
     ]
    },
    {
     "name": "stdout",
     "output_type": "stream",
     "text": [
      "\u001b[34m\u001b[1mAMP: \u001b[0mchecks passed ✅\n"
     ]
    },
    {
     "name": "stderr",
     "output_type": "stream",
     "text": [
      "\u001b[34m\u001b[1mtrain: \u001b[0mScanning /kaggle/working/labels/test... 17733 images, 0 backgrounds, 0 corrupt: 100%|██████████| 17733/17733 [00:16<00:00, 1085.58it/s]\n"
     ]
    },
    {
     "name": "stdout",
     "output_type": "stream",
     "text": [
      "\u001b[34m\u001b[1mtrain: \u001b[0mNew cache created: /kaggle/working/labels/test.cache\n",
      "\u001b[34m\u001b[1malbumentations: \u001b[0mBlur(p=0.01, blur_limit=(3, 7)), MedianBlur(p=0.01, blur_limit=(3, 7)), ToGray(p=0.01, num_output_channels=3, method='weighted_average'), CLAHE(p=0.01, clip_limit=(1, 4.0), tile_grid_size=(8, 8))\n"
     ]
    },
    {
     "name": "stderr",
     "output_type": "stream",
     "text": [
      "/opt/conda/lib/python3.10/multiprocessing/popen_fork.py:66: RuntimeWarning: os.fork() was called. os.fork() is incompatible with multithreaded code, and JAX is multithreaded, so this will likely lead to a deadlock.\n",
      "  self.pid = os.fork()\n",
      "\u001b[34m\u001b[1mval: \u001b[0mScanning /kaggle/working/labels/test.cache... 17733 images, 0 backgrounds, 0 corrupt: 100%|██████████| 17733/17733 [00:00<?, ?it/s]\n"
     ]
    },
    {
     "name": "stdout",
     "output_type": "stream",
     "text": [
      "Plotting labels to Military_aircraft_detection/trained_yolo/labels.jpg... \n",
      "\u001b[34m\u001b[1moptimizer:\u001b[0m 'optimizer=auto' found, ignoring 'lr0=0.01' and 'momentum=0.937' and determining best 'optimizer', 'lr0' and 'momentum' automatically... \n",
      "\u001b[34m\u001b[1moptimizer:\u001b[0m AdamW(lr=0.00013, momentum=0.9) with parameter groups 81 weight(decay=0.0), 88 weight(decay=0.0005), 87 bias(decay=0.0)\n",
      "\u001b[34m\u001b[1mTensorBoard: \u001b[0mmodel graph visualization added ✅\n",
      "Image sizes 640 train, 640 val\n",
      "Using 2 dataloader workers\n",
      "Logging results to \u001b[1mMilitary_aircraft_detection/trained_yolo\u001b[0m\n",
      "Starting training for 10 epochs...\n",
      "Closing dataloader mosaic\n",
      "\u001b[34m\u001b[1malbumentations: \u001b[0mBlur(p=0.01, blur_limit=(3, 7)), MedianBlur(p=0.01, blur_limit=(3, 7)), ToGray(p=0.01, num_output_channels=3, method='weighted_average'), CLAHE(p=0.01, clip_limit=(1, 4.0), tile_grid_size=(8, 8))\n"
     ]
    },
    {
     "name": "stderr",
     "output_type": "stream",
     "text": [
      "/opt/conda/lib/python3.10/multiprocessing/popen_fork.py:66: RuntimeWarning: os.fork() was called. os.fork() is incompatible with multithreaded code, and JAX is multithreaded, so this will likely lead to a deadlock.\n",
      "  self.pid = os.fork()\n",
      "/opt/conda/lib/python3.10/multiprocessing/popen_fork.py:66: RuntimeWarning: os.fork() was called. os.fork() is incompatible with multithreaded code, and JAX is multithreaded, so this will likely lead to a deadlock.\n",
      "  self.pid = os.fork()\n"
     ]
    },
    {
     "name": "stdout",
     "output_type": "stream",
     "text": [
      "\n",
      "      Epoch    GPU_mem   box_loss   cls_loss   dfl_loss  Instances       Size\n"
     ]
    },
    {
     "name": "stderr",
     "output_type": "stream",
     "text": [
      "       1/10      4.93G     0.8233      4.844      1.138          6        640: 100%|██████████| 1109/1109 [05:56<00:00,  3.11it/s]\n",
      "                 Class     Images  Instances      Box(P          R      mAP50  mAP50-95): 100%|██████████| 555/555 [03:33<00:00,  2.60it/s]\n"
     ]
    },
    {
     "name": "stdout",
     "output_type": "stream",
     "text": [
      "                   all      17733      30959      0.199     0.0921     0.0406     0.0337\n",
      "\n",
      "      Epoch    GPU_mem   box_loss   cls_loss   dfl_loss  Instances       Size\n"
     ]
    },
    {
     "name": "stderr",
     "output_type": "stream",
     "text": [
      "       2/10      5.09G     0.7694      3.083      1.087         16        640: 100%|██████████| 1109/1109 [05:44<00:00,  3.22it/s]\n",
      "                 Class     Images  Instances      Box(P          R      mAP50  mAP50-95): 100%|██████████| 555/555 [03:29<00:00,  2.65it/s]\n"
     ]
    },
    {
     "name": "stdout",
     "output_type": "stream",
     "text": [
      "                   all      17733      30959      0.238      0.199       0.11     0.0916\n",
      "\n",
      "      Epoch    GPU_mem   box_loss   cls_loss   dfl_loss  Instances       Size\n"
     ]
    },
    {
     "name": "stderr",
     "output_type": "stream",
     "text": [
      "       3/10      4.84G     0.7576      2.642      1.071          5        640: 100%|██████████| 1109/1109 [05:42<00:00,  3.24it/s]\n",
      "                 Class     Images  Instances      Box(P          R      mAP50  mAP50-95): 100%|██████████| 555/555 [03:31<00:00,  2.63it/s]\n"
     ]
    },
    {
     "name": "stdout",
     "output_type": "stream",
     "text": [
      "                   all      17733      30959      0.321      0.268       0.19      0.157\n",
      "\n",
      "      Epoch    GPU_mem   box_loss   cls_loss   dfl_loss  Instances       Size\n"
     ]
    },
    {
     "name": "stderr",
     "output_type": "stream",
     "text": [
      "       4/10      4.91G     0.7221      2.344      1.049          8        640: 100%|██████████| 1109/1109 [05:42<00:00,  3.24it/s]\n",
      "                 Class     Images  Instances      Box(P          R      mAP50  mAP50-95): 100%|██████████| 555/555 [03:29<00:00,  2.65it/s]\n"
     ]
    },
    {
     "name": "stdout",
     "output_type": "stream",
     "text": [
      "                   all      17733      30959      0.392      0.319      0.288      0.242\n",
      "\n",
      "      Epoch    GPU_mem   box_loss   cls_loss   dfl_loss  Instances       Size\n"
     ]
    },
    {
     "name": "stderr",
     "output_type": "stream",
     "text": [
      "       5/10      5.06G     0.6787      2.078      1.021          8        640: 100%|██████████| 1109/1109 [05:41<00:00,  3.25it/s]\n",
      "                 Class     Images  Instances      Box(P          R      mAP50  mAP50-95): 100%|██████████| 555/555 [03:31<00:00,  2.63it/s]\n"
     ]
    },
    {
     "name": "stdout",
     "output_type": "stream",
     "text": [
      "                   all      17733      30959      0.445      0.396      0.365      0.312\n",
      "\n",
      "      Epoch    GPU_mem   box_loss   cls_loss   dfl_loss  Instances       Size\n"
     ]
    },
    {
     "name": "stderr",
     "output_type": "stream",
     "text": [
      "       6/10      5.04G      0.645       1.86      1.001          7        640: 100%|██████████| 1109/1109 [05:39<00:00,  3.26it/s]\n",
      "                 Class     Images  Instances      Box(P          R      mAP50  mAP50-95): 100%|██████████| 555/555 [03:29<00:00,  2.65it/s]\n"
     ]
    },
    {
     "name": "stdout",
     "output_type": "stream",
     "text": [
      "                   all      17733      30959      0.485      0.449      0.443      0.385\n",
      "\n",
      "      Epoch    GPU_mem   box_loss   cls_loss   dfl_loss  Instances       Size\n"
     ]
    },
    {
     "name": "stderr",
     "output_type": "stream",
     "text": [
      "       7/10      4.53G     0.6287      1.712     0.9908         20        640:  19%|█▉        | 209/1109 [01:03<04:55,  3.04it/s]IOPub message rate exceeded.\n",
      "The notebook server will temporarily stop sending output\n",
      "to the client in order to avoid crashing it.\n",
      "To change this limit, set the config variable\n",
      "`--NotebookApp.iopub_msg_rate_limit`.\n",
      "\n",
      "Current values:\n",
      "NotebookApp.iopub_msg_rate_limit=1000.0 (msgs/sec)\n",
      "NotebookApp.rate_limit_window=3.0 (secs)\n",
      "\n",
      "       7/10      4.91G     0.6151       1.67     0.9826          7        640: 100%|██████████| 1109/1109 [05:40<00:00,  3.25it/s]\n",
      "                 Class     Images  Instances      Box(P          R      mAP50  mAP50-95): 100%|██████████| 555/555 [03:30<00:00,  2.64it/s]\n"
     ]
    },
    {
     "name": "stdout",
     "output_type": "stream",
     "text": [
      "                   all      17733      30959      0.578      0.494      0.529      0.463\n",
      "\n",
      "      Epoch    GPU_mem   box_loss   cls_loss   dfl_loss  Instances       Size\n"
     ]
    },
    {
     "name": "stderr",
     "output_type": "stream",
     "text": [
      "       8/10      4.91G      0.586      1.488     0.9663          8        640: 100%|██████████| 1109/1109 [05:40<00:00,  3.26it/s]\n",
      "                 Class     Images  Instances      Box(P          R      mAP50  mAP50-95): 100%|██████████| 555/555 [03:31<00:00,  2.63it/s]\n"
     ]
    },
    {
     "name": "stdout",
     "output_type": "stream",
     "text": [
      "                   all      17733      30959      0.633       0.55      0.601      0.527\n",
      "\n",
      "      Epoch    GPU_mem   box_loss   cls_loss   dfl_loss  Instances       Size\n"
     ]
    },
    {
     "name": "stderr",
     "output_type": "stream",
     "text": [
      "       9/10      4.85G     0.5555      1.335      0.949          5        640: 100%|██████████| 1109/1109 [05:38<00:00,  3.28it/s]\n",
      "                 Class     Images  Instances      Box(P          R      mAP50  mAP50-95): 100%|██████████| 555/555 [03:28<00:00,  2.66it/s]\n"
     ]
    },
    {
     "name": "stdout",
     "output_type": "stream",
     "text": [
      "                   all      17733      30959      0.703      0.592      0.664      0.588\n",
      "\n",
      "      Epoch    GPU_mem   box_loss   cls_loss   dfl_loss  Instances       Size\n"
     ]
    },
    {
     "name": "stderr",
     "output_type": "stream",
     "text": [
      "      10/10       4.9G     0.5401      1.218     0.9406         31        640:  96%|█████████▌| 1064/1109 [05:26<00:13,  3.32it/s]IOPub message rate exceeded.\n",
      "The notebook server will temporarily stop sending output\n",
      "to the client in order to avoid crashing it.\n",
      "To change this limit, set the config variable\n",
      "`--NotebookApp.iopub_msg_rate_limit`.\n",
      "\n",
      "Current values:\n",
      "NotebookApp.iopub_msg_rate_limit=1000.0 (msgs/sec)\n",
      "NotebookApp.rate_limit_window=3.0 (secs)\n",
      "\n",
      "                 Class     Images  Instances      Box(P          R      mAP50  mAP50-95): 100%|██████████| 555/555 [03:29<00:00,  2.65it/s]\n"
     ]
    },
    {
     "name": "stdout",
     "output_type": "stream",
     "text": [
      "                   all      17733      30959      0.757       0.61      0.702      0.627\n",
      "                   A10        432        688      0.809      0.683      0.773      0.663\n",
      "                 A400M        354        458      0.719      0.736      0.805      0.751\n",
      "                 AG600        230        258      0.929      0.912      0.955      0.912\n",
      "                  AH64        211        346      0.687      0.636      0.717      0.573\n",
      "                  AV8B        271        432      0.808      0.752      0.832      0.758\n",
      "                 An124         72         81      0.517     0.0494      0.208      0.198\n",
      "                  An22         45         48      0.775      0.431      0.608      0.591\n",
      "                 An225         48         53          1          0      0.116       0.11\n",
      "                  An72        136        171      0.848      0.626      0.715      0.669\n",
      "                    B1        434        626       0.75      0.736      0.794      0.718\n",
      "                    B2        401        502      0.841      0.817      0.874      0.761\n",
      "                   B21         32         32      0.667      0.594      0.689      0.627\n",
      "                   B52        373        550      0.741      0.719      0.801      0.713\n",
      "                 Be200        255        280      0.873      0.829      0.897      0.845\n",
      "                  C130        773       1277      0.735      0.749      0.808      0.663\n",
      "                   C17        460        652      0.607      0.575       0.63      0.548\n",
      "                    C2        623        811      0.881      0.856      0.926      0.886\n",
      "                  C390        130        139      0.862       0.54      0.714      0.669\n",
      "                    C5        333        382      0.646      0.668      0.715      0.655\n",
      "                  CH47        154        202      0.691      0.792      0.805      0.716\n",
      "                 CL415        134        158      0.783      0.709      0.792       0.71\n",
      "                    E2        318        448      0.862      0.781      0.848      0.743\n",
      "                    E7        166        183      0.919      0.825      0.867      0.821\n",
      "                EF2000        439        735      0.494      0.358      0.421      0.378\n",
      "                  F117        221        355      0.795      0.872      0.904      0.814\n",
      "                   F14        286        504       0.82      0.425      0.617      0.564\n",
      "                   F15        825       1434      0.651       0.66      0.734      0.644\n",
      "                   F16        942       1674      0.569      0.602      0.642      0.543\n",
      "                   F22        380        642      0.603      0.667      0.682      0.615\n",
      "                   F35        822       1294      0.761      0.631      0.748      0.636\n",
      "                    F4        428        668      0.752      0.467      0.588      0.532\n",
      "                   F18        735       1559      0.704      0.694      0.759      0.647\n",
      "                    H6        193        382      0.632      0.707      0.736      0.588\n",
      "                   J10        233        646      0.703      0.636      0.699      0.594\n",
      "                   J20        374        703      0.786      0.717       0.81      0.746\n",
      "                 JAS39        335        563      0.765      0.439      0.606      0.543\n",
      "                  JF17        147        201       0.63      0.289      0.456      0.419\n",
      "                   JH7        160        267      0.676       0.36      0.486      0.449\n",
      "                 KC135        209        339      0.621      0.575       0.61      0.527\n",
      "                  KF21         94        108      0.869      0.552      0.736      0.693\n",
      "                 KJ600         37         47          1          0      0.418      0.387\n",
      "                  Ka27         56         61      0.367      0.623      0.562      0.533\n",
      "                  Ka52        108        167      0.792      0.701      0.779      0.719\n",
      "                   MQ9        298        357      0.749      0.734      0.803       0.71\n",
      "                  Mi24        123        184      0.533      0.745      0.642      0.588\n",
      "                  Mi28         63        124      0.617      0.702      0.743       0.72\n",
      "                 Mig29        122        157      0.852       0.33      0.444      0.414\n",
      "                 Mig31        246        450      0.733      0.636      0.711      0.607\n",
      "            Mirage2000        243        440      0.784      0.519      0.651      0.579\n",
      "                    P3        239        463      0.701      0.698      0.727      0.607\n",
      "                   RQ4        231        295      0.833      0.742      0.829      0.725\n",
      "                Rafale        359        656      0.486      0.476      0.494      0.437\n",
      "                  SR71        228        265      0.951      0.876      0.935      0.853\n",
      "                  Su24        207        419       0.61      0.337      0.447      0.376\n",
      "                  Su25        190        362      0.899      0.441       0.65      0.565\n",
      "                  Su34        324        452      0.872      0.719      0.832       0.74\n",
      "                  Su57        232        354      0.786      0.664      0.766      0.734\n",
      "                 TB001         72         79      0.908      0.608      0.736      0.676\n",
      "                   TB2         98        402      0.783      0.592      0.747      0.465\n",
      "               Tornado        292        451       0.79      0.524      0.646       0.61\n",
      "                 Tu160        277        368      0.706      0.771      0.808      0.744\n",
      "                 Tu22M        170        331      0.797      0.471      0.651       0.55\n",
      "                  Tu95        218        343      0.816      0.685      0.792      0.707\n",
      "                    U2        270        307      0.888      0.717      0.811      0.742\n",
      "                  UH60        108        135      0.475      0.541      0.474      0.417\n",
      "                   US2        559        617      0.878      0.887      0.942      0.865\n",
      "                   V22        544        825      0.779      0.793      0.858      0.672\n",
      "                Vulcan        312        374      0.831      0.773       0.86      0.803\n",
      "                   WZ7         61         95      0.936      0.154      0.519      0.424\n",
      "                  XB70        162        172      0.908      0.895      0.918      0.843\n",
      "                   Y20        117        192      0.558      0.375      0.459      0.356\n",
      "                  YF23         97        133      0.852      0.895      0.925      0.886\n",
      "                   Z19         22         31          1       0.27      0.531      0.468\n",
      "Speed: 0.1ms preprocess, 3.1ms inference, 0.0ms loss, 1.0ms postprocess per image\n",
      "Results saved to \u001b[1mMilitary_aircraft_detection/trained_yolo\u001b[0m\n"
     ]
    },
    {
     "data": {
      "application/vnd.jupyter.widget-view+json": {
       "model_id": "",
       "version_major": 2,
       "version_minor": 0
      },
      "text/plain": [
       "VBox(children=(Label(value='26.805 MB of 26.805 MB uploaded\\r'), FloatProgress(value=1.0, max=1.0)))"
      ]
     },
     "metadata": {},
     "output_type": "display_data"
    },
    {
     "data": {
      "text/html": [
       "<style>\n",
       "    table.wandb td:nth-child(1) { padding: 0 10px; text-align: left ; width: auto;} td:nth-child(2) {text-align: left ; width: 100%}\n",
       "    .wandb-row { display: flex; flex-direction: row; flex-wrap: wrap; justify-content: flex-start; width: 100% }\n",
       "    .wandb-col { display: flex; flex-direction: column; flex-basis: 100%; flex: 1; padding: 10px; }\n",
       "    </style>\n",
       "<div class=\"wandb-row\"><div class=\"wandb-col\"><h3>Run history:</h3><br/><table class=\"wandb\"><tr><td>lr/pg0</td><td>▃▆█▇▆▅▄▃▂▁</td></tr><tr><td>lr/pg1</td><td>▃▆█▇▆▅▄▃▂▁</td></tr><tr><td>lr/pg2</td><td>▃▆█▇▆▅▄▃▂▁</td></tr><tr><td>metrics/mAP50(B)</td><td>▁▂▃▄▄▅▆▇██</td></tr><tr><td>metrics/mAP50-95(B)</td><td>▁▂▂▃▄▅▆▇██</td></tr><tr><td>metrics/precision(B)</td><td>▁▁▃▃▄▅▆▆▇█</td></tr><tr><td>metrics/recall(B)</td><td>▁▂▃▄▅▆▆▇██</td></tr><tr><td>model/GFLOPs</td><td>▁</td></tr><tr><td>model/parameters</td><td>▁</td></tr><tr><td>model/speed_PyTorch(ms)</td><td>▁</td></tr><tr><td>train/box_loss</td><td>█▇▆▆▄▄▃▂▁▁</td></tr><tr><td>train/cls_loss</td><td>█▅▄▃▃▂▂▂▁▁</td></tr><tr><td>train/dfl_loss</td><td>█▆▆▅▄▃▃▂▁▁</td></tr><tr><td>val/box_loss</td><td>██▇▆▅▄▃▂▁▁</td></tr><tr><td>val/cls_loss</td><td>█▇▆▅▄▃▂▂▁▁</td></tr><tr><td>val/dfl_loss</td><td>██▇▅▅▄▃▂▁▁</td></tr></table><br/></div><div class=\"wandb-col\"><h3>Run summary:</h3><br/><table class=\"wandb\"><tr><td>lr/pg0</td><td>1e-05</td></tr><tr><td>lr/pg1</td><td>1e-05</td></tr><tr><td>lr/pg2</td><td>1e-05</td></tr><tr><td>metrics/mAP50(B)</td><td>0.70179</td></tr><tr><td>metrics/mAP50-95(B)</td><td>0.62678</td></tr><tr><td>metrics/precision(B)</td><td>0.75683</td></tr><tr><td>metrics/recall(B)</td><td>0.61029</td></tr><tr><td>model/GFLOPs</td><td>21.703</td></tr><tr><td>model/parameters</td><td>9456043</td></tr><tr><td>model/speed_PyTorch(ms)</td><td>3.299</td></tr><tr><td>train/box_loss</td><td>0.53938</td></tr><tr><td>train/cls_loss</td><td>1.21744</td></tr><tr><td>train/dfl_loss</td><td>0.94003</td></tr><tr><td>val/box_loss</td><td>0.47438</td></tr><tr><td>val/cls_loss</td><td>0.96155</td></tr><tr><td>val/dfl_loss</td><td>0.86568</td></tr></table><br/></div></div>"
      ],
      "text/plain": [
       "<IPython.core.display.HTML object>"
      ]
     },
     "metadata": {},
     "output_type": "display_data"
    },
    {
     "data": {
      "text/html": [
       " View run <strong style=\"color:#cdcd00\">trained_yolo</strong> at: <a href='https://wandb.ai/atharvakamtalwar-pimpri-chinchwad-education-trust/Military_aircraft_detection/runs/5v46lt0z' target=\"_blank\">https://wandb.ai/atharvakamtalwar-pimpri-chinchwad-education-trust/Military_aircraft_detection/runs/5v46lt0z</a><br/> View project at: <a href='https://wandb.ai/atharvakamtalwar-pimpri-chinchwad-education-trust/Military_aircraft_detection' target=\"_blank\">https://wandb.ai/atharvakamtalwar-pimpri-chinchwad-education-trust/Military_aircraft_detection</a><br/>Synced 5 W&B file(s), 0 media file(s), 10 artifact file(s) and 21 other file(s)"
      ],
      "text/plain": [
       "<IPython.core.display.HTML object>"
      ]
     },
     "metadata": {},
     "output_type": "display_data"
    },
    {
     "data": {
      "text/html": [
       "Find logs at: <code>./wandb/run-20241005_154907-5v46lt0z/logs</code>"
      ],
      "text/plain": [
       "<IPython.core.display.HTML object>"
      ]
     },
     "metadata": {},
     "output_type": "display_data"
    }
   ],
   "source": [
    "results = model.train(\n",
    "    data = \"/kaggle/working/try3.yaml\",\n",
    "    epochs = 10,\n",
    "    verbose = True,\n",
    "    project = \"Military_aircraft_detection\",\n",
    "    name = \"trained_yolo\",\n",
    "    save_dir=\"/kaggle/working/output\"\n",
    ")"
   ]
  },
  {
   "cell_type": "code",
   "execution_count": 13,
   "metadata": {
    "execution": {
     "iopub.execute_input": "2024-10-05T17:47:16.349011Z",
     "iopub.status.busy": "2024-10-05T17:47:16.348614Z",
     "iopub.status.idle": "2024-10-05T17:47:16.643813Z",
     "shell.execute_reply": "2024-10-05T17:47:16.642948Z",
     "shell.execute_reply.started": "2024-10-05T17:47:16.348972Z"
    },
    "trusted": true
   },
   "outputs": [
    {
     "name": "stdout",
     "output_type": "stream",
     "text": [
      "\n",
      "image 1/1 /kaggle/working/B2-1.jpeg: 480x640 1 B2, 57.0ms\n",
      "Speed: 1.8ms preprocess, 57.0ms inference, 1.8ms postprocess per image at shape (1, 3, 480, 640)\n",
      "Results saved to \u001b[1mMilitary_aircraft_detection/trained_yolo2\u001b[0m\n",
      "1 label saved to Military_aircraft_detection/trained_yolo2/labels\n"
     ]
    }
   ],
   "source": [
    "result1 = model.predict(source=\"/kaggle/working/B2-1.jpeg\",  # path to your test image\n",
    "                        save=True,  # save the predictions as images\n",
    "                        save_txt=True  # save the predictions as text files\n",
    "                       )"
   ]
  },
  {
   "cell_type": "code",
   "execution_count": 1,
   "metadata": {},
   "outputs": [
    {
     "name": "stdout",
     "output_type": "stream",
     "text": [
      "Requirement already satisfied: ultralytics in c:\\users\\anonymous\\anaconda3\\lib\\site-packages (8.3.5)\n",
      "Requirement already satisfied: numpy>=1.23.0 in c:\\users\\anonymous\\anaconda3\\lib\\site-packages (from ultralytics) (1.26.4)\n",
      "Requirement already satisfied: matplotlib>=3.3.0 in c:\\users\\anonymous\\anaconda3\\lib\\site-packages (from ultralytics) (3.9.2)\n",
      "Requirement already satisfied: opencv-python>=4.6.0 in c:\\users\\anonymous\\anaconda3\\lib\\site-packages (from ultralytics) (4.10.0.84)\n",
      "Requirement already satisfied: pillow>=7.1.2 in c:\\users\\anonymous\\anaconda3\\lib\\site-packages (from ultralytics) (10.4.0)\n",
      "Requirement already satisfied: pyyaml>=5.3.1 in c:\\users\\anonymous\\anaconda3\\lib\\site-packages (from ultralytics) (6.0.1)\n",
      "Requirement already satisfied: requests>=2.23.0 in c:\\users\\anonymous\\anaconda3\\lib\\site-packages (from ultralytics) (2.32.3)\n",
      "Requirement already satisfied: scipy>=1.4.1 in c:\\users\\anonymous\\anaconda3\\lib\\site-packages (from ultralytics) (1.13.1)\n",
      "Requirement already satisfied: torch>=1.8.0 in c:\\users\\anonymous\\anaconda3\\lib\\site-packages (from ultralytics) (2.4.1)\n",
      "Requirement already satisfied: torchvision>=0.9.0 in c:\\users\\anonymous\\anaconda3\\lib\\site-packages (from ultralytics) (0.19.1)\n",
      "Requirement already satisfied: tqdm>=4.64.0 in c:\\users\\anonymous\\anaconda3\\lib\\site-packages (from ultralytics) (4.66.5)\n",
      "Requirement already satisfied: psutil in c:\\users\\anonymous\\anaconda3\\lib\\site-packages (from ultralytics) (5.9.0)\n",
      "Requirement already satisfied: py-cpuinfo in c:\\users\\anonymous\\anaconda3\\lib\\site-packages (from ultralytics) (9.0.0)\n",
      "Requirement already satisfied: pandas>=1.1.4 in c:\\users\\anonymous\\anaconda3\\lib\\site-packages (from ultralytics) (2.2.2)\n",
      "Requirement already satisfied: seaborn>=0.11.0 in c:\\users\\anonymous\\anaconda3\\lib\\site-packages (from ultralytics) (0.13.2)\n",
      "Requirement already satisfied: ultralytics-thop>=2.0.0 in c:\\users\\anonymous\\anaconda3\\lib\\site-packages (from ultralytics) (2.0.8)\n",
      "Requirement already satisfied: contourpy>=1.0.1 in c:\\users\\anonymous\\anaconda3\\lib\\site-packages (from matplotlib>=3.3.0->ultralytics) (1.2.0)\n",
      "Requirement already satisfied: cycler>=0.10 in c:\\users\\anonymous\\anaconda3\\lib\\site-packages (from matplotlib>=3.3.0->ultralytics) (0.11.0)\n",
      "Requirement already satisfied: fonttools>=4.22.0 in c:\\users\\anonymous\\anaconda3\\lib\\site-packages (from matplotlib>=3.3.0->ultralytics) (4.51.0)\n",
      "Requirement already satisfied: kiwisolver>=1.3.1 in c:\\users\\anonymous\\anaconda3\\lib\\site-packages (from matplotlib>=3.3.0->ultralytics) (1.4.4)\n",
      "Requirement already satisfied: packaging>=20.0 in c:\\users\\anonymous\\anaconda3\\lib\\site-packages (from matplotlib>=3.3.0->ultralytics) (24.1)\n",
      "Requirement already satisfied: pyparsing>=2.3.1 in c:\\users\\anonymous\\anaconda3\\lib\\site-packages (from matplotlib>=3.3.0->ultralytics) (3.1.2)\n",
      "Requirement already satisfied: python-dateutil>=2.7 in c:\\users\\anonymous\\anaconda3\\lib\\site-packages (from matplotlib>=3.3.0->ultralytics) (2.9.0.post0)\n",
      "Requirement already satisfied: pytz>=2020.1 in c:\\users\\anonymous\\anaconda3\\lib\\site-packages (from pandas>=1.1.4->ultralytics) (2024.1)\n",
      "Requirement already satisfied: tzdata>=2022.7 in c:\\users\\anonymous\\anaconda3\\lib\\site-packages (from pandas>=1.1.4->ultralytics) (2023.3)\n",
      "Requirement already satisfied: charset-normalizer<4,>=2 in c:\\users\\anonymous\\anaconda3\\lib\\site-packages (from requests>=2.23.0->ultralytics) (3.3.2)\n",
      "Requirement already satisfied: idna<4,>=2.5 in c:\\users\\anonymous\\anaconda3\\lib\\site-packages (from requests>=2.23.0->ultralytics) (3.7)\n",
      "Requirement already satisfied: urllib3<3,>=1.21.1 in c:\\users\\anonymous\\anaconda3\\lib\\site-packages (from requests>=2.23.0->ultralytics) (2.2.2)\n",
      "Requirement already satisfied: certifi>=2017.4.17 in c:\\users\\anonymous\\anaconda3\\lib\\site-packages (from requests>=2.23.0->ultralytics) (2024.8.30)\n",
      "Requirement already satisfied: filelock in c:\\users\\anonymous\\anaconda3\\lib\\site-packages (from torch>=1.8.0->ultralytics) (3.13.1)\n",
      "Requirement already satisfied: typing-extensions>=4.8.0 in c:\\users\\anonymous\\anaconda3\\lib\\site-packages (from torch>=1.8.0->ultralytics) (4.11.0)\n",
      "Requirement already satisfied: sympy in c:\\users\\anonymous\\anaconda3\\lib\\site-packages (from torch>=1.8.0->ultralytics) (1.13.2)\n",
      "Requirement already satisfied: networkx in c:\\users\\anonymous\\anaconda3\\lib\\site-packages (from torch>=1.8.0->ultralytics) (3.3)\n",
      "Requirement already satisfied: jinja2 in c:\\users\\anonymous\\anaconda3\\lib\\site-packages (from torch>=1.8.0->ultralytics) (3.1.4)\n",
      "Requirement already satisfied: fsspec in c:\\users\\anonymous\\anaconda3\\lib\\site-packages (from torch>=1.8.0->ultralytics) (2024.6.1)\n",
      "Requirement already satisfied: colorama in c:\\users\\anonymous\\anaconda3\\lib\\site-packages (from tqdm>=4.64.0->ultralytics) (0.4.6)\n",
      "Requirement already satisfied: six>=1.5 in c:\\users\\anonymous\\anaconda3\\lib\\site-packages (from python-dateutil>=2.7->matplotlib>=3.3.0->ultralytics) (1.16.0)\n",
      "Requirement already satisfied: MarkupSafe>=2.0 in c:\\users\\anonymous\\anaconda3\\lib\\site-packages (from jinja2->torch>=1.8.0->ultralytics) (2.1.3)\n",
      "Requirement already satisfied: mpmath<1.4,>=1.1.0 in c:\\users\\anonymous\\anaconda3\\lib\\site-packages (from sympy->torch>=1.8.0->ultralytics) (1.3.0)\n"
     ]
    }
   ],
   "source": [
    "!pip install ultralytics"
   ]
  },
  {
   "cell_type": "code",
   "execution_count": 1,
   "metadata": {},
   "outputs": [
    {
     "name": "stdout",
     "output_type": "stream",
     "text": [
      "\n",
      "image 1/1 D:\\Military Aircraft Detection Dataset(1)\\Prediction\\F-18-1.jpeg: 384x640 1 F18, 125.2ms\n",
      "Speed: 8.0ms preprocess, 125.2ms inference, 8.0ms postprocess per image at shape (1, 3, 384, 640)\n",
      "Results saved to \u001b[1mruns\\detect\\predict2\u001b[0m\n",
      "1 label saved to runs\\detect\\predict2\\labels\n"
     ]
    }
   ],
   "source": [
    "from ultralytics import YOLO\n",
    "\n",
    "# Load the trained model from the .pt file\n",
    "model = YOLO(r\"D:\\Military Aircraft Detection Dataset(1)\\yolo_model.pt\")  # Replace with your model's path\n",
    "\n",
    "# Predict on a single image\n",
    "results = model.predict(source=r\"D:\\Military Aircraft Detection Dataset(1)\\Prediction\\F-18-1.jpeg\",  # Path to the image you want to predict on\n",
    "                        save=True,  # Save predictions with bounding boxes on images\n",
    "                        save_txt=True  # Save the bounding boxes as text files\n",
    "                       )"
   ]
  },
  {
   "cell_type": "code",
   "execution_count": 3,
   "metadata": {},
   "outputs": [
    {
     "name": "stdout",
     "output_type": "stream",
     "text": [
      "\n",
      "image 1/1 D:\\Military Aircraft Detection Dataset(1)\\Prediction\\F-18-1.jpeg: 384x640 1 F18, 90.4ms\n",
      "Speed: 2.0ms preprocess, 90.4ms inference, 0.0ms postprocess per image at shape (1, 3, 384, 640)\n",
      "Results saved to \u001b[1mruns\\detect\\predict\u001b[0m\n",
      "2 labels saved to runs\\detect\\predict\\labels\n"
     ]
    }
   ],
   "source": [
    "results = model.predict(source=r\"D:\\Military Aircraft Detection Dataset(1)\\Prediction\\F-18-1.jpeg\",  # Path to the image you want to predict on\n",
    "                        save=True,  # Save predictions with bounding boxes on images\n",
    "                        save_txt=True  # Save the bounding boxes as text files\n",
    "                       )"
   ]
  },
  {
   "cell_type": "code",
   "execution_count": 1,
   "metadata": {},
   "outputs": [
    {
     "ename": "NameError",
     "evalue": "name 'model' is not defined",
     "output_type": "error",
     "traceback": [
      "\u001b[1;31m---------------------------------------------------------------------------\u001b[0m",
      "\u001b[1;31mNameError\u001b[0m                                 Traceback (most recent call last)",
      "Cell \u001b[1;32mIn[1], line 1\u001b[0m\n\u001b[1;32m----> 1\u001b[0m results \u001b[38;5;241m=\u001b[39m model\u001b[38;5;241m.\u001b[39mpredict(source\u001b[38;5;241m=\u001b[39m\u001b[38;5;124mr\u001b[39m\u001b[38;5;124m\"\u001b[39m\u001b[38;5;124mD:\u001b[39m\u001b[38;5;124m\\\u001b[39m\u001b[38;5;124mMilitary Aircraft Detection Dataset(1)\u001b[39m\u001b[38;5;124m\\\u001b[39m\u001b[38;5;124mPrediction\u001b[39m\u001b[38;5;124m\\\u001b[39m\u001b[38;5;124mC-5-1.jpeg\u001b[39m\u001b[38;5;124m\"\u001b[39m,  \u001b[38;5;66;03m# Path to the image you want to predict on\u001b[39;00m\n\u001b[0;32m      2\u001b[0m                         save\u001b[38;5;241m=\u001b[39m\u001b[38;5;28;01mTrue\u001b[39;00m,  \u001b[38;5;66;03m# Save predictions with bounding boxes on images\u001b[39;00m\n\u001b[0;32m      3\u001b[0m                         save_txt\u001b[38;5;241m=\u001b[39m\u001b[38;5;28;01mTrue\u001b[39;00m  \u001b[38;5;66;03m# Save the bounding boxes as text files\u001b[39;00m\n\u001b[0;32m      4\u001b[0m                        )\n",
      "\u001b[1;31mNameError\u001b[0m: name 'model' is not defined"
     ]
    }
   ],
   "source": [
    "results = model.predict(source=r\"D:\\Military Aircraft Detection Dataset(1)\\Prediction\\C-5-1.jpeg\",  # Path to the image you want to predict on\n",
    "                        save=True,  # Save predictions with bounding boxes on images\n",
    "                        save_txt=True  # Save the bounding boxes as text files\n",
    "                       )"
   ]
  },
  {
   "cell_type": "code",
   "execution_count": 5,
   "metadata": {},
   "outputs": [
    {
     "name": "stdout",
     "output_type": "stream",
     "text": [
      "\n",
      "image 1/1 D:\\Military Aircraft Detection Dataset(1)\\Prediction\\AV8V-1.jpg: 448x640 1 AV8B, 93.5ms\n",
      "Speed: 2.0ms preprocess, 93.5ms inference, 1.0ms postprocess per image at shape (1, 3, 448, 640)\n",
      "Results saved to \u001b[1mruns\\detect\\predict\u001b[0m\n",
      "4 labels saved to runs\\detect\\predict\\labels\n"
     ]
    }
   ],
   "source": [
    "results = model.predict(source=r\"D:\\Military Aircraft Detection Dataset(1)\\Prediction\\AV8V-1.jpg\",  # Path to the image you want to predict on\n",
    "                        save=True,  # Save predictions with bounding boxes on images\n",
    "                        save_txt=True  # Save the bounding boxes as text files\n",
    "                       )"
   ]
  },
  {
   "cell_type": "code",
   "execution_count": 7,
   "metadata": {},
   "outputs": [
    {
     "name": "stdout",
     "output_type": "stream",
     "text": [
      "\n",
      "image 1/1 D:\\Military Aircraft Detection Dataset(1)\\Prediction\\Mirage2000-2.jpeg: 288x640 1 Mirage2000, 64.5ms\n",
      "Speed: 1.0ms preprocess, 64.5ms inference, 0.0ms postprocess per image at shape (1, 3, 288, 640)\n",
      "Results saved to \u001b[1mruns\\detect\\predict\u001b[0m\n",
      "6 labels saved to runs\\detect\\predict\\labels\n"
     ]
    }
   ],
   "source": [
    "results = model.predict(source=r\"D:\\Military Aircraft Detection Dataset(1)\\Prediction\\Mirage2000-2.jpeg\",  # Path to the image you want to predict on\n",
    "                        save=True,  # Save predictions with bounding boxes on images\n",
    "                        save_txt=True  # Save the bounding boxes as text files\n",
    "                       )"
   ]
  },
  {
   "cell_type": "code",
   "execution_count": 8,
   "metadata": {},
   "outputs": [
    {
     "name": "stdout",
     "output_type": "stream",
     "text": [
      "\n",
      "image 1/1 D:\\Military Aircraft Detection Dataset(1)\\Prediction\\MQ-9-1.jpeg: 384x640 1 B52, 1 MQ9, 93.6ms\n",
      "Speed: 2.0ms preprocess, 93.6ms inference, 0.0ms postprocess per image at shape (1, 3, 384, 640)\n",
      "Results saved to \u001b[1mruns\\detect\\predict\u001b[0m\n",
      "7 labels saved to runs\\detect\\predict\\labels\n"
     ]
    }
   ],
   "source": [
    "results = model.predict(source=r\"D:\\Military Aircraft Detection Dataset(1)\\Prediction\\MQ-9-1.jpeg\",  # Path to the image you want to predict on\n",
    "                        save=True,  # Save predictions with bounding boxes on images\n",
    "                        save_txt=True  # Save the bounding boxes as text files\n",
    "                       )"
   ]
  }
 ],
 "metadata": {
  "kaggle": {
   "accelerator": "nvidiaTeslaT4",
   "dataSources": [
    {
     "datasetId": 821893,
     "sourceId": 9456041,
     "sourceType": "datasetVersion"
    },
    {
     "datasetId": 5821835,
     "sourceId": 9554522,
     "sourceType": "datasetVersion"
    },
    {
     "datasetId": 5822326,
     "sourceId": 9555238,
     "sourceType": "datasetVersion"
    }
   ],
   "dockerImageVersionId": 30787,
   "isGpuEnabled": true,
   "isInternetEnabled": true,
   "language": "python",
   "sourceType": "notebook"
  },
  "kernelspec": {
   "display_name": "base",
   "language": "python",
   "name": "python3"
  },
  "language_info": {
   "codemirror_mode": {
    "name": "ipython",
    "version": 3
   },
   "file_extension": ".py",
   "mimetype": "text/x-python",
   "name": "python",
   "nbconvert_exporter": "python",
   "pygments_lexer": "ipython3",
   "version": "3.11.7"
  }
 },
 "nbformat": 4,
 "nbformat_minor": 4
}
